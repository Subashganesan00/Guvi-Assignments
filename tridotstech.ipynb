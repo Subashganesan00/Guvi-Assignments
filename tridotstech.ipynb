{
  "nbformat": 4,
  "nbformat_minor": 0,
  "metadata": {
    "colab": {
      "provenance": [],
      "authorship_tag": "ABX9TyMlQ9ErQO/I3YG7NLoWeWcj",
      "include_colab_link": true
    },
    "kernelspec": {
      "name": "python3",
      "display_name": "Python 3"
    },
    "language_info": {
      "name": "python"
    }
  },
  "cells": [
    {
      "cell_type": "markdown",
      "metadata": {
        "id": "view-in-github",
        "colab_type": "text"
      },
      "source": [
        "<a href=\"https://colab.research.google.com/github/Subashganesan00/Guvi-Assignments/blob/main/tridotstech.ipynb\" target=\"_parent\"><img src=\"https://colab.research.google.com/assets/colab-badge.svg\" alt=\"Open In Colab\"/></a>"
      ]
    },
    {
      "cell_type": "code",
      "source": [
        "pip install flask_sqlalchemy\n"
      ],
      "metadata": {
        "colab": {
          "base_uri": "https://localhost:8080/"
        },
        "id": "UVsDXFAvqRuR",
        "outputId": "d5b15fb1-1676-4ef2-e1c1-d938f04ade9a"
      },
      "execution_count": null,
      "outputs": [
        {
          "output_type": "stream",
          "name": "stdout",
          "text": [
            "Looking in indexes: https://pypi.org/simple, https://us-python.pkg.dev/colab-wheels/public/simple/\n",
            "Collecting flask_sqlalchemy\n",
            "  Downloading Flask_SQLAlchemy-3.0.3-py3-none-any.whl (24 kB)\n",
            "Requirement already satisfied: Flask>=2.2 in /usr/local/lib/python3.10/dist-packages (from flask_sqlalchemy) (2.2.4)\n",
            "Requirement already satisfied: SQLAlchemy>=1.4.18 in /usr/local/lib/python3.10/dist-packages (from flask_sqlalchemy) (2.0.10)\n",
            "Requirement already satisfied: Werkzeug>=2.2.2 in /usr/local/lib/python3.10/dist-packages (from Flask>=2.2->flask_sqlalchemy) (2.3.0)\n",
            "Requirement already satisfied: Jinja2>=3.0 in /usr/local/lib/python3.10/dist-packages (from Flask>=2.2->flask_sqlalchemy) (3.1.2)\n",
            "Requirement already satisfied: itsdangerous>=2.0 in /usr/local/lib/python3.10/dist-packages (from Flask>=2.2->flask_sqlalchemy) (2.1.2)\n",
            "Requirement already satisfied: click>=8.0 in /usr/local/lib/python3.10/dist-packages (from Flask>=2.2->flask_sqlalchemy) (8.1.3)\n",
            "Requirement already satisfied: typing-extensions>=4.2.0 in /usr/local/lib/python3.10/dist-packages (from SQLAlchemy>=1.4.18->flask_sqlalchemy) (4.5.0)\n",
            "Requirement already satisfied: greenlet!=0.4.17 in /usr/local/lib/python3.10/dist-packages (from SQLAlchemy>=1.4.18->flask_sqlalchemy) (2.0.2)\n",
            "Requirement already satisfied: MarkupSafe>=2.0 in /usr/local/lib/python3.10/dist-packages (from Jinja2>=3.0->Flask>=2.2->flask_sqlalchemy) (2.1.2)\n",
            "Installing collected packages: flask_sqlalchemy\n",
            "Successfully installed flask_sqlalchemy-3.0.3\n"
          ]
        }
      ]
    },
    {
      "cell_type": "code",
      "source": [
        "from flask import Flask, render_template, request\n",
        "from flask_sqlalchemy import SQLAlchemy\n",
        "\n",
        "app = Flask(__name__)\n",
        "app.config['SQLALCHEMY_DATABASE_URI'] = 'sqlite:///inventory.db'\n",
        "db = SQLAlchemy(app)\n",
        "\n",
        "# Database Models\n",
        "class Product(db.Model):\n",
        "    id = db.Column(db.Integer, primary_key=True)\n",
        "    name = db.Column(db.String(100), nullable=False)\n",
        "\n",
        "class Location(db.Model):\n",
        "    id = db.Column(db.Integer, primary_key=True)\n",
        "    name = db.Column(db.String(100), nullable=False)\n",
        "\n",
        "class ProductMovement(db.Model):\n",
        "    id = db.Column(db.Integer, primary_key=True)\n",
        "    timestamp = db.Column(db.DateTime, nullable=False)\n",
        "    from_location = db.Column(db.Integer, db.ForeignKey('location.id'))\n",
        "    to_location = db.Column(db.Integer, db.ForeignKey('location.id'))\n",
        "    product_id = db.Column(db.Integer, db.ForeignKey('product.id'))\n",
        "    quantity = db.Column(db.Integer, nullable=False)\n",
        "\n",
        "    from_location_rel = db.relationship('Location', foreign_keys=[from_location])\n",
        "    to_location_rel = db.relationship('Location', foreign_keys=[to_location])\n",
        "    product = db.relationship('Product')\n",
        "\n",
        "# Routes\n",
        "@app.route('/')\n",
        "def index():\n",
        "    return 'Welcome to the Inventory Management System'\n",
        "\n",
        "@app.route('/products', methods=['GET', 'POST'])\n",
        "def products():\n",
        "    if request.method == 'POST':\n",
        "        name = request.form['name']\n",
        "        product = Product(name=name)\n",
        "        db.session.add(product)\n",
        "        db.session.commit()\n",
        "\n",
        "    products = Product.query.all()\n",
        "    return render_template('products.html', products=products)\n",
        "\n",
        "@app.route('/locations', methods=['GET', 'POST'])\n",
        "def locations():\n",
        "    if request.method == 'POST':\n",
        "        name = request.form['name']\n",
        "        location = Location(name=name)\n",
        "        db.session.add(location)\n",
        "        db.session.commit()\n",
        "\n",
        "    locations = Location.query.all()\n",
        "    return render_template('locations.html', locations=locations)\n",
        "\n",
        "@app.route('/product_movement', methods=['GET', 'POST'])\n",
        "def product_movement():\n",
        "    if request.method == 'POST':\n",
        "        from_location = request.form['from_location']\n",
        "        to_location = request.form['to_location']\n",
        "        product_id = request.form['product']\n",
        "        quantity = request.form['quantity']\n",
        "\n",
        "        movement = ProductMovement(\n",
        "            from_location=from_location,\n",
        "            to_location=to_location,\n",
        "            product_id=product_id,\n",
        "            quantity=quantity\n",
        "        )\n",
        "        db.session.add(movement)\n",
        "        db.session.commit()\n",
        "\n",
        "    movements = ProductMovement.query.all()\n",
        "    return render_template('product_movement.html', movements=movements)\n",
        "\n",
        "if __name__ == '__main__':\n",
        "    db.create_all()\n",
        "    app.run(debug=True)\n"
      ],
      "metadata": {
        "id": "qsC9NUjFxBZk"
      },
      "execution_count": null,
      "outputs": []
    }
  ]
}